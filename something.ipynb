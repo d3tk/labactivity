{
 "cells": [
  {
   "cell_type": "code",
   "execution_count": null,
   "metadata": {},
   "outputs": [],
   "source": [
    "name = input('Hello, please enter your name. ')\n",
    "\n",
    "age = int(input('Enter your age. '))\n",
    "\n",
    "\n",
    "\n",
    "def something(name, age):\n",
    "    print('Hello, ' + name + ' you are eligible to: ')\n",
    "    \n",
    "    if age > 16:\n",
    "        print('drive ')\n",
    "    if age > 21:\n",
    "        print('drink... but not while you drive.')\n",
    "        \n",
    "something(name, age)"
   ]
  }
 ],
 "metadata": {
  "kernelspec": {
   "display_name": "Python 3",
   "language": "python",
   "name": "python3"
  },
  "language_info": {
   "codemirror_mode": {
    "name": "ipython",
    "version": 3
   },
   "file_extension": ".py",
   "mimetype": "text/x-python",
   "name": "python",
   "nbconvert_exporter": "python",
   "pygments_lexer": "ipython3",
   "version": "3.8.3"
  }
 },
 "nbformat": 4,
 "nbformat_minor": 4
}
